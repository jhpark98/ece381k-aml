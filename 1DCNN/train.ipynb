{
 "cells": [
  {
   "cell_type": "markdown",
   "metadata": {},
   "source": [
    "# train models\n",
    "This is sample code to train my models.\n",
    "The same codes will be shared on kaggle notebook."
   ]
  },
  {
   "cell_type": "markdown",
   "metadata": {},
   "source": [
    "### 0. Data Preparation \n",
    "- move some files to local. (this part is only necessary when you run code on kaggle notebook)\n",
    "- Change setting file if necessary."
   ]
  },
  {
   "cell_type": "code",
   "execution_count": 1,
   "metadata": {},
   "outputs": [],
   "source": [
    "RUN_ON_KAGGLE = False\n",
    "\n",
    "if RUN_ON_KAGGLE:\n",
    "    import gc\n",
    "    import json\n",
    "    from distutils.dir_util import copy_tree\n",
    "\n",
    "    _ = copy_tree(\"/kaggle/input/cmisleep-2ndplace-kmat\", \"/kaggle/working/kmat\")\n",
    "    %cd kmat"
   ]
  },
  {
   "cell_type": "code",
   "execution_count": null,
   "metadata": {},
   "outputs": [],
   "source": [
    "import json\n",
    "path_setting = 'SETTINGS.json'\n",
    "setting = json.load(open(path_setting))\n",
    "print(\"default\")\n",
    "print(setting)\n",
    "\n",
    "setting[\"IS_DEBUG\"] = 'True' # Debug mode uses only 20% data, and train only 2 epochs.\n",
    "\n",
    "if RUN_ON_KAGGLE:\n",
    "    setting[\"train_path\"] = \"/kaggle/input/child-mind-institute-detect-sleep-states/train_series.parquet\"\n",
    "    setting[\"train_target_path\"] = \"/kaggle/input/child-mind-institute-detect-sleep-states/train_events.csv\"\n",
    "    setting[\"test_path\"] = \"/kaggle/input/child-mind-institute-detect-sleep-states/test_series.parquet\"\n",
    "    setting[\"sample_submission_path\"] = \"/kaggle/input/child-mind-institute-detect-sleep-states/sample_submission.csv\"\n",
    "        \n",
    "print(\"changed into\")\n",
    "print(setting)\n",
    "json.dump(setting, open(path_setting, 'w'))"
   ]
  },
  {
   "cell_type": "markdown",
   "metadata": {},
   "source": [
    "## 1. Prepare dataset for training\n",
    "Make npy files and label for training 1DCNN"
   ]
  },
  {
   "cell_type": "code",
   "execution_count": null,
   "metadata": {},
   "outputs": [],
   "source": [
    "%run src/make_dataset.ipynb"
   ]
  },
  {
   "cell_type": "markdown",
   "metadata": {},
   "source": [
    "## 2. Train 1DCNN\n",
    "Training 1DCNN event detection model.\n",
    "(In debug mode, the loss values are large due to the small batch size.)"
   ]
  },
  {
   "cell_type": "code",
   "execution_count": 10,
   "metadata": {},
   "outputs": [],
   "source": [
    "%run src/train_1dcnn.py"
   ]
  }
 ],
 "metadata": {
  "kernelspec": {
   "display_name": "Python 3",
   "language": "python",
   "name": "python3"
  },
  "language_info": {
   "codemirror_mode": {
    "name": "ipython",
    "version": 3
   },
   "file_extension": ".py",
   "mimetype": "text/x-python",
   "name": "python",
   "nbconvert_exporter": "python",
   "pygments_lexer": "ipython3",
   "version": "3.9.20"
  },
  "orig_nbformat": 4
 },
 "nbformat": 4,
 "nbformat_minor": 2
}
